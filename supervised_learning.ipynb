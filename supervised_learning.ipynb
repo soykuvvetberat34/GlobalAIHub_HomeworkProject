{
  "nbformat": 4,
  "nbformat_minor": 0,
  "metadata": {
    "colab": {
      "provenance": [],
      "gpuType": "T4",
      "authorship_tag": "ABX9TyM/Cj2hsxPGWdtm6IMvWtnX",
      "include_colab_link": true
    },
    "kernelspec": {
      "name": "python3",
      "display_name": "Python 3"
    },
    "language_info": {
      "name": "python"
    },
    "accelerator": "GPU"
  },
  "cells": [
    {
      "cell_type": "markdown",
      "metadata": {
        "id": "view-in-github",
        "colab_type": "text"
      },
      "source": [
        "<a href=\"https://colab.research.google.com/github/soykuvvetberat34/GlobalAIHub_HomeworkProject/blob/main/supervised_learning.ipynb\" target=\"_parent\"><img src=\"https://colab.research.google.com/assets/colab-badge.svg\" alt=\"Open In Colab\"/></a>"
      ]
    },
    {
      "cell_type": "code",
      "execution_count": 22,
      "metadata": {
        "id": "vale1OsWao-Y"
      },
      "outputs": [],
      "source": [
        "import numpy as np\n",
        "import pandas as pd\n",
        "from sklearn.model_selection import train_test_split\n",
        "from sklearn.metrics import accuracy_score\n",
        "from sklearn.metrics import confusion_matrix\n",
        "from sklearn.neighbors import KNeighborsClassifier\n",
        "from sklearn.linear_model import LogisticRegression\n",
        "from sklearn.model_selection import GridSearchCV\n",
        "from sklearn.preprocessing import LabelEncoder\n",
        "from sklearn.cluster import KMeans"
      ]
    },
    {
      "cell_type": "markdown",
      "source": [
        "Kütüphanelerimizi ekledik kümeleme için K-means , regresyon için en yakın komşu algoritması"
      ],
      "metadata": {
        "id": "iCI5P8B5fzMv"
      }
    },
    {
      "cell_type": "code",
      "source": [
        "datas=pd.read_csv(\"/content/heart_2020_cleaned.csv\")"
      ],
      "metadata": {
        "id": "GArajasZf0JS"
      },
      "execution_count": 10,
      "outputs": []
    },
    {
      "cell_type": "markdown",
      "source": [
        "verimizi aktardık"
      ],
      "metadata": {
        "id": "cMlqp9kMjfcA"
      }
    },
    {
      "cell_type": "code",
      "source": [
        "x=datas.iloc[:,[2,3,4,7,8,11,12,13,15,16,17]]\n",
        "y=datas.iloc[:,0]"
      ],
      "metadata": {
        "id": "lTgISg3ojhNI"
      },
      "execution_count": 16,
      "outputs": []
    },
    {
      "cell_type": "markdown",
      "source": [
        "Bağımlı ve bağımsız değişkenleri ayırdık"
      ],
      "metadata": {
        "id": "oe6_m8BdoLvd"
      }
    },
    {
      "cell_type": "code",
      "source": [
        "x_train,x_test,y_train,y_test=train_test_split(x,y,test_size=0.3,random_state=99)\n"
      ],
      "metadata": {
        "colab": {
          "base_uri": "https://localhost:8080/"
        },
        "id": "nEsNJB82oPdw",
        "outputId": "6ef4b53b-b909-47aa-d915-3b36e98697de"
      },
      "execution_count": 26,
      "outputs": [
        {
          "output_type": "stream",
          "name": "stdout",
          "text": [
            "Index(['Smoking', 'AlcoholDrinking', 'Stroke', 'DiffWalking', 'Sex',\n",
            "       'Diabetic', 'PhysicalActivity', 'GenHealth', 'Asthma', 'KidneyDisease',\n",
            "       'SkinCancer'],\n",
            "      dtype='object')\n"
          ]
        }
      ]
    },
    {
      "cell_type": "markdown",
      "source": [
        "Verimizi train ve test verisi olarak ayırdık"
      ],
      "metadata": {
        "id": "GcGV4F2_pB_O"
      }
    },
    {
      "cell_type": "code",
      "source": [
        "le = LabelEncoder()\n",
        "x_train['Smoking'] = le.fit_transform(x_train['Smoking'])\n",
        "x_train['AlcoholDrinking'] = le.fit_transform(x_train['AlcoholDrinking'])\n",
        "x_train['Stroke'] = le.fit_transform(x_train['Stroke'])\n",
        "x_train['DiffWalking'] = le.fit_transform(x_train['DiffWalking'])\n",
        "x_train['Sex'] = le.fit_transform(x_train['Sex'])\n",
        "x_train['Diabetic'] = le.fit_transform(x_train['Diabetic'])\n",
        "x_train['PhysicalActivity'] = le.fit_transform(x_train['PhysicalActivity'])\n",
        "x_train['GenHealth'] = le.fit_transform(x_train['GenHealth'])\n",
        "x_train['Asthma'] = le.fit_transform(x_train['Asthma'])\n",
        "x_train['KidneyDisease'] = le.fit_transform(x_train['KidneyDisease'])\n",
        "x_train['SkinCancer'] = le.fit_transform(x_train['SkinCancer'])\n",
        "y_train = le.fit_transform(y_train)\n",
        "y_test=le.fit_transform(y_test)\n",
        "x_test['Smoking'] = le.fit_transform(x_test['Smoking'])\n",
        "x_test['AlcoholDrinking'] = le.fit_transform(x_test['AlcoholDrinking'])\n",
        "x_test['Stroke'] = le.fit_transform(x_test['Stroke'])\n",
        "x_test['DiffWalking'] = le.fit_transform(x_test['DiffWalking'])\n",
        "x_test['Sex'] = le.fit_transform(x_test['Sex'])\n",
        "x_test['Diabetic'] = le.fit_transform(x_test['Diabetic'])\n",
        "x_test['PhysicalActivity'] = le.fit_transform(x_test['PhysicalActivity'])\n",
        "x_test['GenHealth'] = le.fit_transform(x_test['GenHealth'])\n",
        "x_test['Asthma'] = le.fit_transform(x_test['Asthma'])\n",
        "x_test['KidneyDisease'] = le.fit_transform(x_test['KidneyDisease'])\n",
        "x_test['SkinCancer'] = le.fit_transform(x_test['SkinCancer'])\n"
      ],
      "metadata": {
        "colab": {
          "base_uri": "https://localhost:8080/"
        },
        "id": "cl6JOnaf2WI7",
        "outputId": "db3edfc9-b4c6-42bb-a5ea-e3b349bcb4fd"
      },
      "execution_count": 28,
      "outputs": [
        {
          "output_type": "stream",
          "name": "stdout",
          "text": [
            "[0 0 0 ... 0 0 0]\n"
          ]
        }
      ]
    },
    {
      "cell_type": "markdown",
      "source": [
        "bu kısımda label encoder ile kategorik verilerimizi sayısal 0 ve 1 değerlerine çevirdik"
      ],
      "metadata": {
        "id": "a7dlfz-S4-sx"
      }
    },
    {
      "cell_type": "code",
      "source": [
        "KNN_model=KNeighborsClassifier()"
      ],
      "metadata": {
        "id": "ukRPkxoMpFur"
      },
      "execution_count": 29,
      "outputs": []
    },
    {
      "cell_type": "markdown",
      "source": [
        "Modelimizi oluşturduk"
      ],
      "metadata": {
        "id": "OyLcAdQhpMB5"
      }
    },
    {
      "cell_type": "code",
      "source": [
        "Knn_params={\n",
        "    \"n_neighbors\":np.arange(1,50)\n",
        "}"
      ],
      "metadata": {
        "id": "9JIuM-2ApO3Y"
      },
      "execution_count": 30,
      "outputs": []
    },
    {
      "cell_type": "markdown",
      "source": [
        "modelimizin hiper parametre optimizasyonu için hiper parametreleri seçtik ve değerler atadık"
      ],
      "metadata": {
        "id": "fPdAGb2DpU23"
      }
    },
    {
      "cell_type": "code",
      "source": [
        "knn_crossValiditaion=GridSearchCV(KNN_model,Knn_params,cv=5,verbose=2,n_jobs=-1)\n",
        "knn_crossValiditaion.fit(x_train,y_train)"
      ],
      "metadata": {
        "colab": {
          "base_uri": "https://localhost:8080/"
        },
        "id": "FWKAb0ngpqES",
        "outputId": "b2691fa1-ad68-4840-a097-c4a8dcf2dabb"
      },
      "execution_count": null,
      "outputs": [
        {
          "output_type": "stream",
          "name": "stdout",
          "text": [
            "Fitting 5 folds for each of 49 candidates, totalling 245 fits\n"
          ]
        }
      ]
    },
    {
      "cell_type": "markdown",
      "source": [
        "knn modelimizin parametrelerini GridSearchCV hiper parametre optimizasyonu fonksiyonuna girdik ve crossvalidation=5 olarak ayarladık k katlı çapraz doğrulama anlamına gelir 10 kat çapraz doğrulama ile model için en iyi değerleri bulacaktır ,verbose =2 ile işlem sırasında modelin bizi bilgilendirmesini sağlarız, n_jobs=-1 işlemcinin tam performans çalışmasını sağlar en son da ise çapraz doğrulama yapılarak seçilen parametreler ile modeli eğittik böylece parametreler içinden en iyi seçenekleri alabilelim"
      ],
      "metadata": {
        "id": "hD0b9xNyp6J-"
      }
    },
    {
      "cell_type": "code",
      "source": [
        "n_neighbors=knn_crossValiditaion.best_params_[\"n_neighbors\"]"
      ],
      "metadata": {
        "id": "IImNzjAkqdWn"
      },
      "execution_count": null,
      "outputs": []
    },
    {
      "cell_type": "markdown",
      "source": [
        "Model üzerinden başarılı sonuç çıkarabilecek hiper parametre değerini aldık"
      ],
      "metadata": {
        "id": "lui0630WrVj6"
      }
    },
    {
      "cell_type": "code",
      "source": [
        "Knn_tuned=KNeighborsClassifier(n_neighbors=n_neighbors)\n",
        "Knn_tuned.fit(x_train,y_train)"
      ],
      "metadata": {
        "id": "2fBmkVclrjvw"
      },
      "execution_count": null,
      "outputs": []
    },
    {
      "cell_type": "markdown",
      "source": [
        "GridSearchCV nin bulduğu değerleri kullanarak KNN modelini tekrardan kurup bu değerleri model içerisine entegre ettik ve modeli eğittik"
      ],
      "metadata": {
        "id": "j__rEXIorrF1"
      }
    },
    {
      "cell_type": "code",
      "source": [
        "predict=Knn_tuned.predict(x_test)"
      ],
      "metadata": {
        "id": "BGQqaQc4r21v"
      },
      "execution_count": null,
      "outputs": []
    },
    {
      "cell_type": "markdown",
      "source": [
        "Modelimizin tahmin işlemlerini gerçekleştirdik"
      ],
      "metadata": {
        "id": "KYz6Jq27sdPO"
      }
    },
    {
      "cell_type": "code",
      "source": [
        "accuracy_score=accuracy_score(y_test,predict)\n",
        "confusion_mx=confusion_matrix(y_test,predict)\n",
        "print(accuracy_score)\n",
        "print(confusion_mx)"
      ],
      "metadata": {
        "id": "VO5eyFU-siDd"
      },
      "execution_count": null,
      "outputs": []
    },
    {
      "cell_type": "markdown",
      "source": [
        "accuracy score ile modelin değerlendirme skoruna ulaştık confusion matriksinde ise doğru tahmin edilen değerlerin sayısına ulaşmak için en çarpraz olarak tüm değerleri toplamak gerekir"
      ],
      "metadata": {
        "id": "B38c3E4ZsrOg"
      }
    }
  ]
}