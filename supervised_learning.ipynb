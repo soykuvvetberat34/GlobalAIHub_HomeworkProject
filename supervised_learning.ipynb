{
  "nbformat": 4,
  "nbformat_minor": 0,
  "metadata": {
    "colab": {
      "provenance": [],
      "gpuType": "T4",
      "authorship_tag": "ABX9TyNZbcS1g+alK6ig2j8BQF63",
      "include_colab_link": true
    },
    "kernelspec": {
      "name": "python3",
      "display_name": "Python 3"
    },
    "language_info": {
      "name": "python"
    },
    "accelerator": "GPU"
  },
  "cells": [
    {
      "cell_type": "markdown",
      "metadata": {
        "id": "view-in-github",
        "colab_type": "text"
      },
      "source": [
        "<a href=\"https://colab.research.google.com/github/soykuvvetberat34/GlobalAIHub_HomeworkProject/blob/main/supervised_learning.ipynb\" target=\"_parent\"><img src=\"https://colab.research.google.com/assets/colab-badge.svg\" alt=\"Open In Colab\"/></a>"
      ]
    },
    {
      "cell_type": "code",
      "execution_count": 7,
      "metadata": {
        "id": "vale1OsWao-Y"
      },
      "outputs": [],
      "source": [
        "import numpy as np\n",
        "import pandas as pd\n",
        "from sklearn.model_selection import train_test_split\n",
        "from sklearn.metrics import accuracy_score\n",
        "from sklearn.metrics import confusion_matrix\n",
        "from sklearn.neighbors import KNeighborsClassifier\n",
        "from sklearn.linear_model import LogisticRegression\n",
        "from sklearn.model_selection import GridSearchCV\n",
        "from sklearn.preprocessing import LabelEncoder\n",
        "from sklearn.cluster import KMeans\n",
        "from sklearn.metrics import classification_report"
      ]
    },
    {
      "cell_type": "markdown",
      "source": [
        "Kütüphanelerimizi ekledik kümeleme için K-means , regresyon için en yakın komşu algoritması"
      ],
      "metadata": {
        "id": "iCI5P8B5fzMv"
      }
    },
    {
      "cell_type": "code",
      "source": [
        "datas=pd.read_csv(\"/content/heart_2020_cleaned.csv\")"
      ],
      "metadata": {
        "id": "GArajasZf0JS"
      },
      "execution_count": 8,
      "outputs": []
    },
    {
      "cell_type": "markdown",
      "source": [
        "verimizi aktardık"
      ],
      "metadata": {
        "id": "cMlqp9kMjfcA"
      }
    },
    {
      "cell_type": "code",
      "source": [
        "x=datas.iloc[:,[2,3,4,7,8,11,12,13,15,16,17]]\n",
        "y=datas.iloc[:,0]"
      ],
      "metadata": {
        "id": "lTgISg3ojhNI"
      },
      "execution_count": 9,
      "outputs": []
    },
    {
      "cell_type": "markdown",
      "source": [
        "Bağımlı ve bağımsız değişkenleri ayırdık"
      ],
      "metadata": {
        "id": "oe6_m8BdoLvd"
      }
    },
    {
      "cell_type": "code",
      "source": [
        "x_train,x_test,y_train,y_test=train_test_split(x,y,test_size=0.3,random_state=99)\n"
      ],
      "metadata": {
        "id": "nEsNJB82oPdw"
      },
      "execution_count": 10,
      "outputs": []
    },
    {
      "cell_type": "markdown",
      "source": [
        "Verimizi train ve test verisi olarak ayırdık"
      ],
      "metadata": {
        "id": "GcGV4F2_pB_O"
      }
    },
    {
      "cell_type": "code",
      "source": [
        "le = LabelEncoder()\n",
        "x_train['Smoking'] = le.fit_transform(x_train['Smoking'])\n",
        "x_train['AlcoholDrinking'] = le.fit_transform(x_train['AlcoholDrinking'])\n",
        "x_train['Stroke'] = le.fit_transform(x_train['Stroke'])\n",
        "x_train['DiffWalking'] = le.fit_transform(x_train['DiffWalking'])\n",
        "x_train['Sex'] = le.fit_transform(x_train['Sex'])\n",
        "x_train['Diabetic'] = le.fit_transform(x_train['Diabetic'])\n",
        "x_train['PhysicalActivity'] = le.fit_transform(x_train['PhysicalActivity'])\n",
        "x_train['GenHealth'] = le.fit_transform(x_train['GenHealth'])\n",
        "x_train['Asthma'] = le.fit_transform(x_train['Asthma'])\n",
        "x_train['KidneyDisease'] = le.fit_transform(x_train['KidneyDisease'])\n",
        "x_train['SkinCancer'] = le.fit_transform(x_train['SkinCancer'])\n",
        "y_train = le.fit_transform(y_train)\n",
        "y_test=le.fit_transform(y_test)\n",
        "x_test['Smoking'] = le.fit_transform(x_test['Smoking'])\n",
        "x_test['AlcoholDrinking'] = le.fit_transform(x_test['AlcoholDrinking'])\n",
        "x_test['Stroke'] = le.fit_transform(x_test['Stroke'])\n",
        "x_test['DiffWalking'] = le.fit_transform(x_test['DiffWalking'])\n",
        "x_test['Sex'] = le.fit_transform(x_test['Sex'])\n",
        "x_test['Diabetic'] = le.fit_transform(x_test['Diabetic'])\n",
        "x_test['PhysicalActivity'] = le.fit_transform(x_test['PhysicalActivity'])\n",
        "x_test['GenHealth'] = le.fit_transform(x_test['GenHealth'])\n",
        "x_test['Asthma'] = le.fit_transform(x_test['Asthma'])\n",
        "x_test['KidneyDisease'] = le.fit_transform(x_test['KidneyDisease'])\n",
        "x_test['SkinCancer'] = le.fit_transform(x_test['SkinCancer'])\n"
      ],
      "metadata": {
        "id": "cl6JOnaf2WI7"
      },
      "execution_count": 11,
      "outputs": []
    },
    {
      "cell_type": "markdown",
      "source": [
        "bu kısımda label encoder ile kategorik verilerimizi sayısal 0 ve 1 değerlerine çevirdik"
      ],
      "metadata": {
        "id": "a7dlfz-S4-sx"
      }
    },
    {
      "cell_type": "code",
      "source": [
        "KNN_model=KNeighborsClassifier()"
      ],
      "metadata": {
        "id": "ukRPkxoMpFur"
      },
      "execution_count": 12,
      "outputs": []
    },
    {
      "cell_type": "markdown",
      "source": [
        "Modelimizi oluşturduk"
      ],
      "metadata": {
        "id": "OyLcAdQhpMB5"
      }
    },
    {
      "cell_type": "code",
      "source": [
        "Knn_params={\n",
        "    \"n_neighbors\":np.arange(40,50)\n",
        "}"
      ],
      "metadata": {
        "id": "9JIuM-2ApO3Y"
      },
      "execution_count": 13,
      "outputs": []
    },
    {
      "cell_type": "markdown",
      "source": [
        "modelimizin hiper parametre optimizasyonu için hiper parametreleri seçtik ve değerler atadık"
      ],
      "metadata": {
        "id": "fPdAGb2DpU23"
      }
    },
    {
      "cell_type": "code",
      "source": [
        "knn_crossValiditaion=GridSearchCV(KNN_model,Knn_params,cv=2,verbose=2,n_jobs=-1)\n",
        "knn_crossValiditaion.fit(x_train,y_train)"
      ],
      "metadata": {
        "colab": {
          "base_uri": "https://localhost:8080/",
          "height": 135
        },
        "id": "FWKAb0ngpqES",
        "outputId": "892479e4-4fe7-42e9-e751-af46e969c4c7"
      },
      "execution_count": 14,
      "outputs": [
        {
          "output_type": "stream",
          "name": "stdout",
          "text": [
            "Fitting 2 folds for each of 10 candidates, totalling 20 fits\n"
          ]
        },
        {
          "output_type": "execute_result",
          "data": {
            "text/plain": [
              "GridSearchCV(cv=2, estimator=KNeighborsClassifier(), n_jobs=-1,\n",
              "             param_grid={'n_neighbors': array([40, 41, 42, 43, 44, 45, 46, 47, 48, 49])},\n",
              "             verbose=2)"
            ],
            "text/html": [
              "<style>#sk-container-id-1 {color: black;}#sk-container-id-1 pre{padding: 0;}#sk-container-id-1 div.sk-toggleable {background-color: white;}#sk-container-id-1 label.sk-toggleable__label {cursor: pointer;display: block;width: 100%;margin-bottom: 0;padding: 0.3em;box-sizing: border-box;text-align: center;}#sk-container-id-1 label.sk-toggleable__label-arrow:before {content: \"▸\";float: left;margin-right: 0.25em;color: #696969;}#sk-container-id-1 label.sk-toggleable__label-arrow:hover:before {color: black;}#sk-container-id-1 div.sk-estimator:hover label.sk-toggleable__label-arrow:before {color: black;}#sk-container-id-1 div.sk-toggleable__content {max-height: 0;max-width: 0;overflow: hidden;text-align: left;background-color: #f0f8ff;}#sk-container-id-1 div.sk-toggleable__content pre {margin: 0.2em;color: black;border-radius: 0.25em;background-color: #f0f8ff;}#sk-container-id-1 input.sk-toggleable__control:checked~div.sk-toggleable__content {max-height: 200px;max-width: 100%;overflow: auto;}#sk-container-id-1 input.sk-toggleable__control:checked~label.sk-toggleable__label-arrow:before {content: \"▾\";}#sk-container-id-1 div.sk-estimator input.sk-toggleable__control:checked~label.sk-toggleable__label {background-color: #d4ebff;}#sk-container-id-1 div.sk-label input.sk-toggleable__control:checked~label.sk-toggleable__label {background-color: #d4ebff;}#sk-container-id-1 input.sk-hidden--visually {border: 0;clip: rect(1px 1px 1px 1px);clip: rect(1px, 1px, 1px, 1px);height: 1px;margin: -1px;overflow: hidden;padding: 0;position: absolute;width: 1px;}#sk-container-id-1 div.sk-estimator {font-family: monospace;background-color: #f0f8ff;border: 1px dotted black;border-radius: 0.25em;box-sizing: border-box;margin-bottom: 0.5em;}#sk-container-id-1 div.sk-estimator:hover {background-color: #d4ebff;}#sk-container-id-1 div.sk-parallel-item::after {content: \"\";width: 100%;border-bottom: 1px solid gray;flex-grow: 1;}#sk-container-id-1 div.sk-label:hover label.sk-toggleable__label {background-color: #d4ebff;}#sk-container-id-1 div.sk-serial::before {content: \"\";position: absolute;border-left: 1px solid gray;box-sizing: border-box;top: 0;bottom: 0;left: 50%;z-index: 0;}#sk-container-id-1 div.sk-serial {display: flex;flex-direction: column;align-items: center;background-color: white;padding-right: 0.2em;padding-left: 0.2em;position: relative;}#sk-container-id-1 div.sk-item {position: relative;z-index: 1;}#sk-container-id-1 div.sk-parallel {display: flex;align-items: stretch;justify-content: center;background-color: white;position: relative;}#sk-container-id-1 div.sk-item::before, #sk-container-id-1 div.sk-parallel-item::before {content: \"\";position: absolute;border-left: 1px solid gray;box-sizing: border-box;top: 0;bottom: 0;left: 50%;z-index: -1;}#sk-container-id-1 div.sk-parallel-item {display: flex;flex-direction: column;z-index: 1;position: relative;background-color: white;}#sk-container-id-1 div.sk-parallel-item:first-child::after {align-self: flex-end;width: 50%;}#sk-container-id-1 div.sk-parallel-item:last-child::after {align-self: flex-start;width: 50%;}#sk-container-id-1 div.sk-parallel-item:only-child::after {width: 0;}#sk-container-id-1 div.sk-dashed-wrapped {border: 1px dashed gray;margin: 0 0.4em 0.5em 0.4em;box-sizing: border-box;padding-bottom: 0.4em;background-color: white;}#sk-container-id-1 div.sk-label label {font-family: monospace;font-weight: bold;display: inline-block;line-height: 1.2em;}#sk-container-id-1 div.sk-label-container {text-align: center;}#sk-container-id-1 div.sk-container {/* jupyter's `normalize.less` sets `[hidden] { display: none; }` but bootstrap.min.css set `[hidden] { display: none !important; }` so we also need the `!important` here to be able to override the default hidden behavior on the sphinx rendered scikit-learn.org. See: https://github.com/scikit-learn/scikit-learn/issues/21755 */display: inline-block !important;position: relative;}#sk-container-id-1 div.sk-text-repr-fallback {display: none;}</style><div id=\"sk-container-id-1\" class=\"sk-top-container\"><div class=\"sk-text-repr-fallback\"><pre>GridSearchCV(cv=2, estimator=KNeighborsClassifier(), n_jobs=-1,\n",
              "             param_grid={&#x27;n_neighbors&#x27;: array([40, 41, 42, 43, 44, 45, 46, 47, 48, 49])},\n",
              "             verbose=2)</pre><b>In a Jupyter environment, please rerun this cell to show the HTML representation or trust the notebook. <br />On GitHub, the HTML representation is unable to render, please try loading this page with nbviewer.org.</b></div><div class=\"sk-container\" hidden><div class=\"sk-item sk-dashed-wrapped\"><div class=\"sk-label-container\"><div class=\"sk-label sk-toggleable\"><input class=\"sk-toggleable__control sk-hidden--visually\" id=\"sk-estimator-id-1\" type=\"checkbox\" ><label for=\"sk-estimator-id-1\" class=\"sk-toggleable__label sk-toggleable__label-arrow\">GridSearchCV</label><div class=\"sk-toggleable__content\"><pre>GridSearchCV(cv=2, estimator=KNeighborsClassifier(), n_jobs=-1,\n",
              "             param_grid={&#x27;n_neighbors&#x27;: array([40, 41, 42, 43, 44, 45, 46, 47, 48, 49])},\n",
              "             verbose=2)</pre></div></div></div><div class=\"sk-parallel\"><div class=\"sk-parallel-item\"><div class=\"sk-item\"><div class=\"sk-label-container\"><div class=\"sk-label sk-toggleable\"><input class=\"sk-toggleable__control sk-hidden--visually\" id=\"sk-estimator-id-2\" type=\"checkbox\" ><label for=\"sk-estimator-id-2\" class=\"sk-toggleable__label sk-toggleable__label-arrow\">estimator: KNeighborsClassifier</label><div class=\"sk-toggleable__content\"><pre>KNeighborsClassifier()</pre></div></div></div><div class=\"sk-serial\"><div class=\"sk-item\"><div class=\"sk-estimator sk-toggleable\"><input class=\"sk-toggleable__control sk-hidden--visually\" id=\"sk-estimator-id-3\" type=\"checkbox\" ><label for=\"sk-estimator-id-3\" class=\"sk-toggleable__label sk-toggleable__label-arrow\">KNeighborsClassifier</label><div class=\"sk-toggleable__content\"><pre>KNeighborsClassifier()</pre></div></div></div></div></div></div></div></div></div></div>"
            ]
          },
          "metadata": {},
          "execution_count": 14
        }
      ]
    },
    {
      "cell_type": "markdown",
      "source": [
        "knn modelimizin parametrelerini GridSearchCV hiper parametre optimizasyonu fonksiyonuna girdik ve crossvalidation=5 olarak ayarladık k katlı çapraz doğrulama anlamına gelir 10 kat çapraz doğrulama ile model için en iyi değerleri bulacaktır ,verbose =2 ile işlem sırasında modelin bizi bilgilendirmesini sağlarız, n_jobs=-1 işlemcinin tam performans çalışmasını sağlar en son da ise çapraz doğrulama yapılarak seçilen parametreler ile modeli eğittik böylece parametreler içinden en iyi seçenekleri alabilelim"
      ],
      "metadata": {
        "id": "hD0b9xNyp6J-"
      }
    },
    {
      "cell_type": "code",
      "source": [
        "n_neighbors=knn_crossValiditaion.best_params_[\"n_neighbors\"]"
      ],
      "metadata": {
        "id": "IImNzjAkqdWn"
      },
      "execution_count": 15,
      "outputs": []
    },
    {
      "cell_type": "markdown",
      "source": [
        "Model üzerinden başarılı sonuç çıkarabilecek hiper parametre değerini aldık"
      ],
      "metadata": {
        "id": "lui0630WrVj6"
      }
    },
    {
      "cell_type": "code",
      "source": [
        "Knn_tuned=KNeighborsClassifier(n_neighbors=n_neighbors)\n",
        "Knn_tuned.fit(x_train,y_train)"
      ],
      "metadata": {
        "id": "2fBmkVclrjvw",
        "colab": {
          "base_uri": "https://localhost:8080/",
          "height": 74
        },
        "outputId": "d202df8e-c387-479b-eb55-34d1284fe69a"
      },
      "execution_count": 16,
      "outputs": [
        {
          "output_type": "execute_result",
          "data": {
            "text/plain": [
              "KNeighborsClassifier(n_neighbors=49)"
            ],
            "text/html": [
              "<style>#sk-container-id-2 {color: black;}#sk-container-id-2 pre{padding: 0;}#sk-container-id-2 div.sk-toggleable {background-color: white;}#sk-container-id-2 label.sk-toggleable__label {cursor: pointer;display: block;width: 100%;margin-bottom: 0;padding: 0.3em;box-sizing: border-box;text-align: center;}#sk-container-id-2 label.sk-toggleable__label-arrow:before {content: \"▸\";float: left;margin-right: 0.25em;color: #696969;}#sk-container-id-2 label.sk-toggleable__label-arrow:hover:before {color: black;}#sk-container-id-2 div.sk-estimator:hover label.sk-toggleable__label-arrow:before {color: black;}#sk-container-id-2 div.sk-toggleable__content {max-height: 0;max-width: 0;overflow: hidden;text-align: left;background-color: #f0f8ff;}#sk-container-id-2 div.sk-toggleable__content pre {margin: 0.2em;color: black;border-radius: 0.25em;background-color: #f0f8ff;}#sk-container-id-2 input.sk-toggleable__control:checked~div.sk-toggleable__content {max-height: 200px;max-width: 100%;overflow: auto;}#sk-container-id-2 input.sk-toggleable__control:checked~label.sk-toggleable__label-arrow:before {content: \"▾\";}#sk-container-id-2 div.sk-estimator input.sk-toggleable__control:checked~label.sk-toggleable__label {background-color: #d4ebff;}#sk-container-id-2 div.sk-label input.sk-toggleable__control:checked~label.sk-toggleable__label {background-color: #d4ebff;}#sk-container-id-2 input.sk-hidden--visually {border: 0;clip: rect(1px 1px 1px 1px);clip: rect(1px, 1px, 1px, 1px);height: 1px;margin: -1px;overflow: hidden;padding: 0;position: absolute;width: 1px;}#sk-container-id-2 div.sk-estimator {font-family: monospace;background-color: #f0f8ff;border: 1px dotted black;border-radius: 0.25em;box-sizing: border-box;margin-bottom: 0.5em;}#sk-container-id-2 div.sk-estimator:hover {background-color: #d4ebff;}#sk-container-id-2 div.sk-parallel-item::after {content: \"\";width: 100%;border-bottom: 1px solid gray;flex-grow: 1;}#sk-container-id-2 div.sk-label:hover label.sk-toggleable__label {background-color: #d4ebff;}#sk-container-id-2 div.sk-serial::before {content: \"\";position: absolute;border-left: 1px solid gray;box-sizing: border-box;top: 0;bottom: 0;left: 50%;z-index: 0;}#sk-container-id-2 div.sk-serial {display: flex;flex-direction: column;align-items: center;background-color: white;padding-right: 0.2em;padding-left: 0.2em;position: relative;}#sk-container-id-2 div.sk-item {position: relative;z-index: 1;}#sk-container-id-2 div.sk-parallel {display: flex;align-items: stretch;justify-content: center;background-color: white;position: relative;}#sk-container-id-2 div.sk-item::before, #sk-container-id-2 div.sk-parallel-item::before {content: \"\";position: absolute;border-left: 1px solid gray;box-sizing: border-box;top: 0;bottom: 0;left: 50%;z-index: -1;}#sk-container-id-2 div.sk-parallel-item {display: flex;flex-direction: column;z-index: 1;position: relative;background-color: white;}#sk-container-id-2 div.sk-parallel-item:first-child::after {align-self: flex-end;width: 50%;}#sk-container-id-2 div.sk-parallel-item:last-child::after {align-self: flex-start;width: 50%;}#sk-container-id-2 div.sk-parallel-item:only-child::after {width: 0;}#sk-container-id-2 div.sk-dashed-wrapped {border: 1px dashed gray;margin: 0 0.4em 0.5em 0.4em;box-sizing: border-box;padding-bottom: 0.4em;background-color: white;}#sk-container-id-2 div.sk-label label {font-family: monospace;font-weight: bold;display: inline-block;line-height: 1.2em;}#sk-container-id-2 div.sk-label-container {text-align: center;}#sk-container-id-2 div.sk-container {/* jupyter's `normalize.less` sets `[hidden] { display: none; }` but bootstrap.min.css set `[hidden] { display: none !important; }` so we also need the `!important` here to be able to override the default hidden behavior on the sphinx rendered scikit-learn.org. See: https://github.com/scikit-learn/scikit-learn/issues/21755 */display: inline-block !important;position: relative;}#sk-container-id-2 div.sk-text-repr-fallback {display: none;}</style><div id=\"sk-container-id-2\" class=\"sk-top-container\"><div class=\"sk-text-repr-fallback\"><pre>KNeighborsClassifier(n_neighbors=49)</pre><b>In a Jupyter environment, please rerun this cell to show the HTML representation or trust the notebook. <br />On GitHub, the HTML representation is unable to render, please try loading this page with nbviewer.org.</b></div><div class=\"sk-container\" hidden><div class=\"sk-item\"><div class=\"sk-estimator sk-toggleable\"><input class=\"sk-toggleable__control sk-hidden--visually\" id=\"sk-estimator-id-4\" type=\"checkbox\" checked><label for=\"sk-estimator-id-4\" class=\"sk-toggleable__label sk-toggleable__label-arrow\">KNeighborsClassifier</label><div class=\"sk-toggleable__content\"><pre>KNeighborsClassifier(n_neighbors=49)</pre></div></div></div></div></div>"
            ]
          },
          "metadata": {},
          "execution_count": 16
        }
      ]
    },
    {
      "cell_type": "markdown",
      "source": [
        "GridSearchCV nin bulduğu değerleri kullanarak KNN modelini tekrardan kurup bu değerleri model içerisine entegre ettik ve modeli eğittik"
      ],
      "metadata": {
        "id": "j__rEXIorrF1"
      }
    },
    {
      "cell_type": "code",
      "source": [
        "predict=Knn_tuned.predict(x_test)"
      ],
      "metadata": {
        "id": "BGQqaQc4r21v"
      },
      "execution_count": 17,
      "outputs": []
    },
    {
      "cell_type": "markdown",
      "source": [
        "Modelimizin tahmin işlemlerini gerçekleştirdik"
      ],
      "metadata": {
        "id": "KYz6Jq27sdPO"
      }
    },
    {
      "cell_type": "code",
      "source": [
        "accuracy_score=accuracy_score(y_test,predict)\n",
        "confusion_mx=confusion_matrix(y_test,predict)\n",
        "print(f\"accuracy score: {accuracy_score}\\n\")\n",
        "print(\"Karmaşıklık matrisi\")\n",
        "print(confusion_mx)\n",
        "toplam=confusion_mx[0][0]+confusion_mx[1][1]\n",
        "print(f\"\\nToplam doğru bilinen değer: {confusion_mx[0][0]} + {confusion_mx[1][1]} ={toplam}\")\n",
        "print(\"\\Classification report\\n\")\n",
        "print(classification_report(y_test,predict))"
      ],
      "metadata": {
        "id": "VO5eyFU-siDd",
        "colab": {
          "base_uri": "https://localhost:8080/"
        },
        "outputId": "c1bad109-9b06-4244-da9a-9d06b5c2981c"
      },
      "execution_count": 18,
      "outputs": [
        {
          "output_type": "stream",
          "name": "stdout",
          "text": [
            "accuracy score: 0.9147479127362178\n",
            "\n",
            "Karmaşıklık matrisi\n",
            "[[87413   267]\n",
            " [ 7912   347]]\n",
            "\n",
            "Toplam doğru bilinen değer: 87413 + 347 =87760\n",
            "\\Classification report\n",
            "\n",
            "              precision    recall  f1-score   support\n",
            "\n",
            "           0       0.92      1.00      0.96     87680\n",
            "           1       0.57      0.04      0.08      8259\n",
            "\n",
            "    accuracy                           0.91     95939\n",
            "   macro avg       0.74      0.52      0.52     95939\n",
            "weighted avg       0.89      0.91      0.88     95939\n",
            "\n"
          ]
        }
      ]
    }
  ]
}